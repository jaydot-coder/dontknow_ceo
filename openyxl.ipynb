{
 "cells": [
  {
   "cell_type": "code",
   "execution_count": null,
   "metadata": {},
   "outputs": [
    {
     "name": "stdout",
     "output_type": "stream",
     "text": [
      "c:\\Users\\jamin\\AppData\\Local\\Programs\\Python\\Python313\\python.exe\n"
     ]
    }
   ],
   "source": [
    "#develop interpreter path check\n",
    "import sys\n",
    "print(sys.executable)"
   ]
  },
  {
   "cell_type": "code",
   "execution_count": 2,
   "metadata": {},
   "outputs": [
    {
     "name": "stdout",
     "output_type": "stream",
     "text": [
      "Requirement already satisfied: openpyxl in c:\\users\\jamin\\appdata\\local\\programs\\python\\python313\\lib\\site-packages (3.1.5)\n",
      "Requirement already satisfied: et-xmlfile in c:\\users\\jamin\\appdata\\local\\programs\\python\\python313\\lib\\site-packages (from openpyxl) (2.0.0)\n",
      "Note: you may need to restart the kernel to use updated packages.\n"
     ]
    },
    {
     "name": "stderr",
     "output_type": "stream",
     "text": [
      "\n",
      "[notice] A new release of pip is available: 24.3.1 -> 25.0.1\n",
      "[notice] To update, run: python.exe -m pip install --upgrade pip\n"
     ]
    }
   ],
   "source": [
    "#install\n",
    "%pip install openpyxl"
   ]
  },
  {
   "cell_type": "code",
   "execution_count": 3,
   "metadata": {},
   "outputs": [],
   "source": [
    "#import\n",
    "import  openpyxl as op"
   ]
  },
  {
   "cell_type": "code",
   "execution_count": 5,
   "metadata": {},
   "outputs": [
    {
     "name": "stdout",
     "output_type": "stream",
     "text": [
      "<openpyxl.workbook.workbook.Workbook object at 0x00000192D5B097F0>\n"
     ]
    }
   ],
   "source": [
    "#workbook creation\n",
    "wb = op.Workbook()\n",
    "print(wb)"
   ]
  },
  {
   "cell_type": "code",
   "execution_count": 6,
   "metadata": {},
   "outputs": [],
   "source": [
    "#workbook save\n",
    "wb.save(r\"C:/jm_first_coding/dontknow_ceo/openpyxl_test.xlsx\") #r 표시는 unicode 에러 발생시 사용(역슬래쉬 인식 못할경우)"
   ]
  },
  {
   "cell_type": "code",
   "execution_count": 7,
   "metadata": {},
   "outputs": [],
   "source": [
    "#workbook load\n",
    "path = r\"C:/jm_first_coding/dontknow_ceo\"\n",
    "wb1 = op.load_workbook(path + \"/openpyxl_test.xlsx\")"
   ]
  },
  {
   "cell_type": "code",
   "execution_count": 8,
   "metadata": {},
   "outputs": [
    {
     "name": "stdout",
     "output_type": "stream",
     "text": [
      "<openpyxl.workbook.workbook.Workbook object at 0x00000192D5BBCF50>\n"
     ]
    }
   ],
   "source": [
    "print(wb1)"
   ]
  },
  {
   "cell_type": "code",
   "execution_count": 9,
   "metadata": {},
   "outputs": [],
   "source": [
    "wb = op.Workbook() #새로운 워크북 객체 생성"
   ]
  },
  {
   "cell_type": "code",
   "execution_count": 10,
   "metadata": {},
   "outputs": [],
   "source": [
    "wf = wb.create_sheet(\"new_sheet1\") #wb 객체를 통해 새로운 시트 생성"
   ]
  },
  {
   "cell_type": "code",
   "execution_count": null,
   "metadata": {},
   "outputs": [
    {
     "name": "stdout",
     "output_type": "stream",
     "text": [
      "<Worksheet \"new_sheet1\">\n"
     ]
    }
   ],
   "source": [
    "print(wf) #ws 객체 출력력"
   ]
  },
  {
   "cell_type": "code",
   "execution_count": 21,
   "metadata": {},
   "outputs": [],
   "source": [
    "wb.save(\"sheet_creation.xlsx\")"
   ]
  },
  {
   "cell_type": "code",
   "execution_count": 25,
   "metadata": {},
   "outputs": [
    {
     "name": "stdout",
     "output_type": "stream",
     "text": [
      "<Worksheet \"new_sheet1\">\n"
     ]
    }
   ],
   "source": [
    "ws=wb['new_sheet1']\n",
    "print(ws)"
   ]
  },
  {
   "cell_type": "code",
   "execution_count": 4,
   "metadata": {},
   "outputs": [],
   "source": [
    "wb=op.load_workbook(r\"C:/jm_first_coding/dontknow_ceo/sheet_creation.xlsx\")"
   ]
  },
  {
   "cell_type": "code",
   "execution_count": 5,
   "metadata": {},
   "outputs": [],
   "source": [
    "ws_list=wb.sheetnames #해당 Workbook의 시트 목록을 리스트로 저장"
   ]
  },
  {
   "cell_type": "code",
   "execution_count": 6,
   "metadata": {},
   "outputs": [
    {
     "name": "stdout",
     "output_type": "stream",
     "text": [
      "<Worksheet \"Sheet\">\n",
      "<Worksheet \"new_sheet1\">\n"
     ]
    }
   ],
   "source": [
    "for sht in ws_list: #for in 은 for 다음에 오는 변수에 in 을 순서대로 넣는 다는뜻\n",
    "    ws = wb[sht] # sheet 객체 생성\n",
    "    print(ws) # 객체 출력"
   ]
  },
  {
   "cell_type": "markdown",
   "metadata": {},
   "source": [
    "# cell 데이터 읽기/쓰기"
   ]
  },
  {
   "cell_type": "code",
   "execution_count": 8,
   "metadata": {},
   "outputs": [],
   "source": [
    "wb=op.load_workbook(r\"openpyxl_test.xlsx\") #워크북 객체 생성"
   ]
  },
  {
   "cell_type": "code",
   "execution_count": 9,
   "metadata": {},
   "outputs": [],
   "source": [
    "ws = wb.active #활성화 되어있는 시트 설정"
   ]
  },
  {
   "cell_type": "code",
   "execution_count": 11,
   "metadata": {},
   "outputs": [
    {
     "name": "stdout",
     "output_type": "stream",
     "text": [
      "4\n"
     ]
    }
   ],
   "source": [
    "#방법1 : sheet의 cell 속성 이용하기\n",
    "data1 = ws.cell(row=1,column=2).value\n",
    "print(data1)"
   ]
  },
  {
   "cell_type": "code",
   "execution_count": 12,
   "metadata": {},
   "outputs": [
    {
     "name": "stdout",
     "output_type": "stream",
     "text": [
      "4\n"
     ]
    }
   ],
   "source": [
    "#방법 2 : 엑셀 index(range) 사용하기\n",
    "data2=ws[\"B1\"].value\n",
    "print(data2)"
   ]
  },
  {
   "cell_type": "code",
   "execution_count": null,
   "metadata": {},
   "outputs": [
    {
     "name": "stdout",
     "output_type": "stream",
     "text": [
      "<Cell '업'.B1>\n",
      "<Cell '업'.B1>\n"
     ]
    }
   ],
   "source": [
    "#value를 제외하면?\n",
    "data1 = ws.cell(row=1,column=2)\n",
    "data2=ws[\"B1\"]\n",
    "print(data1) #cell 속성을 가지고 있고, 업이라는 sheet 에서 B1 CELL 을 가리키고 있다.\n",
    "print(data2)"
   ]
  },
  {
   "cell_type": "code",
   "execution_count": 15,
   "metadata": {},
   "outputs": [
    {
     "name": "stdout",
     "output_type": "stream",
     "text": [
      "((<Cell '업'.A1>, <Cell '업'.B1>),)\n"
     ]
    }
   ],
   "source": [
    "#영역지정한 data 읽어오기\n",
    "rng= ws[\"A1:B1\"]\n",
    "print(rng)"
   ]
  },
  {
   "cell_type": "code",
   "execution_count": null,
   "metadata": {},
   "outputs": [
    {
     "name": "stdout",
     "output_type": "stream",
     "text": [
      "((<Cell '업'.A1>, <Cell '업'.B1>, <Cell '업'.C1>), (<Cell '업'.A2>, <Cell '업'.B2>, <Cell '업'.C2>), (<Cell '업'.A3>, <Cell '업'.B3>, <Cell '업'.C3>))\n"
     ]
    }
   ],
   "source": [
    "rng2= ws[\"A1:C3\"]\n",
    "print(rng2) #이경우 2차원 튜플 생성됨 (x,y 각 항목을 표현해야하므로 ,, x기준으로 주루룩, y 기준으로 주루룩)\n"
   ]
  },
  {
   "cell_type": "code",
   "execution_count": 19,
   "metadata": {},
   "outputs": [
    {
     "name": "stdout",
     "output_type": "stream",
     "text": [
      "1\n",
      "4\n",
      "7\n",
      "2\n",
      "5\n",
      "8\n",
      "3\n",
      "6\n",
      "9\n"
     ]
    }
   ],
   "source": [
    "for rng_data in rng2: #튜플의 첫번째 차원\n",
    "    for cell_data in rng_data : #튜플의 두번째 차원을 위한 for문 :1개의 cell 요소\n",
    "        print(cell_data.value)"
   ]
  },
  {
   "cell_type": "markdown",
   "metadata": {},
   "source": [
    "### 2 cell에 data 쓰기"
   ]
  },
  {
   "cell_type": "code",
   "execution_count": 9,
   "metadata": {},
   "outputs": [],
   "source": [
    "import openpyxl as op\n",
    "wb = op.load_workbook(r\"openpyxl_test.xlsx\")\n",
    "ws = wb['무']"
   ]
  },
  {
   "cell_type": "code",
   "execution_count": 12,
   "metadata": {},
   "outputs": [],
   "source": [
    "#b1 셀에 입력하기\n",
    "ws.cell(row=1, column=2).value = \"input_test_1\"\n",
    "#c1 cell 입력\n",
    "ws[\"C1\"].value=\"input_test_2\""
   ]
  },
  {
   "cell_type": "code",
   "execution_count": 13,
   "metadata": {},
   "outputs": [],
   "source": [
    "wb.save('result.xlsx')"
   ]
  },
  {
   "cell_type": "markdown",
   "metadata": {},
   "source": [
    "###cell value 값을 공백으로 설정하기"
   ]
  },
  {
   "cell_type": "code",
   "execution_count": 16,
   "metadata": {},
   "outputs": [],
   "source": [
    "wb=op.load_workbook(r\"openpyxl_test.xlsx\")\n",
    "ws=wb['업']"
   ]
  },
  {
   "cell_type": "code",
   "execution_count": 17,
   "metadata": {},
   "outputs": [],
   "source": [
    "rng=ws[\"A1:C3\"]"
   ]
  },
  {
   "cell_type": "code",
   "execution_count": 19,
   "metadata": {},
   "outputs": [],
   "source": [
    "for row_data in rng:\n",
    "    for data in row_data:\n",
    "        #해당 data가 2로 나눈 나머지가 0이면 공백처리\n",
    "        if (data.value %2) == 0:\n",
    "            data.value=\"\"\n",
    "\n",
    "wb.save('delete.xlsx')"
   ]
  },
  {
   "cell_type": "code",
   "execution_count": null,
   "metadata": {},
   "outputs": [
    {
     "ename": "AttributeError",
     "evalue": "'tuple' object has no attribute 'value'",
     "output_type": "error",
     "traceback": [
      "\u001b[1;31m---------------------------------------------------------------------------\u001b[0m",
      "\u001b[1;31mAttributeError\u001b[0m                            Traceback (most recent call last)",
      "Cell \u001b[1;32mIn[20], line 3\u001b[0m\n\u001b[0;32m      1\u001b[0m \u001b[38;5;66;03m#for 문 테스트\u001b[39;00m\n\u001b[0;32m      2\u001b[0m \u001b[38;5;28;01mfor\u001b[39;00m row_data \u001b[38;5;129;01min\u001b[39;00m rng:\n\u001b[1;32m----> 3\u001b[0m     \u001b[38;5;28;01mif\u001b[39;00m (\u001b[43mrow_data\u001b[49m\u001b[38;5;241;43m.\u001b[39;49m\u001b[43mvalue\u001b[49m \u001b[38;5;241m%\u001b[39m\u001b[38;5;241m2\u001b[39m) \u001b[38;5;241m==\u001b[39m \u001b[38;5;241m0\u001b[39m:\n\u001b[0;32m      4\u001b[0m         row_data\u001b[38;5;241m.\u001b[39mvalue\u001b[38;5;241m=\u001b[39m\u001b[38;5;124m\"\u001b[39m\u001b[38;5;124m\"\u001b[39m\n\u001b[0;32m      6\u001b[0m wb\u001b[38;5;241m.\u001b[39msave(\u001b[38;5;124m'\u001b[39m\u001b[38;5;124mdelete2.xlsx\u001b[39m\u001b[38;5;124m'\u001b[39m)\n",
      "\u001b[1;31mAttributeError\u001b[0m: 'tuple' object has no attribute 'value'"
     ]
    }
   ],
   "source": [
    "#for 문 테스트\n",
    "for row_data in rng:\n",
    "    if (row_data.value %2) == 0:\n",
    "        row_data.value=\"\"\n",
    "\n",
    "wb.save('delete2.xlsx')\n",
    "\n",
    "#위 코드 에러나는 이유는 cell 는 row,column 으로 이루어져 있음. row_data 내에 2개이상의 cell 값이 있는 tuple 형식이라 .value 불가"
   ]
  },
  {
   "cell_type": "markdown",
   "metadata": {},
   "source": [
    "###2) delete_rows, delete_cols 사용하기"
   ]
  },
  {
   "cell_type": "code",
   "execution_count": null,
   "metadata": {},
   "outputs": [
    {
     "name": "stdout",
     "output_type": "stream",
     "text": [
      "row_index:2, row = (1, 2, 3),col_index =1 value = 1\n",
      "row_index:2, row = (1, 2, 3),col_index =2 value = 2\n",
      "row_index:2, row = (1, 2, 3),col_index =3 value = 3\n",
      "row_index:3, row = (4, 5, 6),col_index =1 value = 4\n",
      "row_index:3, row = (4, 5, 6),col_index =2 value = 5\n",
      "row_index:3, row = (4, 5, 6),col_index =3 value = 6\n",
      "row_index:4, row = (7, 8, 9),col_index =1 value = 7\n",
      "row_index:4, row = (7, 8, 9),col_index =2 value = 8\n",
      "row_index:4, row = (7, 8, 9),col_index =3 value = 9\n",
      "data_done\n"
     ]
    }
   ],
   "source": [
    "import openpyxl as op\n",
    "wb = op.Workbook()\n",
    "ws=wb.active\n",
    "ws.title=\"test\"\n",
    "wb.save(\"col_delete.xlsx\")\n",
    "\n",
    "data = ((1,2,3),(4,5,6),(7,8,9))\n",
    "\n",
    "for row_index, row in enumerate(data, start=2): #for 변수1 , 변수2 in 변수3 구조는 변수3 에 있는 data가 쌍으로묶여있을때 사용, enumerate는 데이터에 순서를 붙여서 (순서,값) 형태로 data 만들어줌\n",
    "    for col_index, value in enumerate(row, start=1):\n",
    "        ws.cell(row=row_index,column=col_index,value=value)\n",
    "        print(f\"row_index:{row_index}, row = {row},col_index ={col_index} value = {value}\")\n",
    "wb.save('col_delete.xlsx')\n",
    "print(\"data_done\")"
   ]
  },
  {
   "cell_type": "code",
   "execution_count": null,
   "metadata": {},
   "outputs": [],
   "source": []
  }
 ],
 "metadata": {
  "kernelspec": {
   "display_name": "Python 3",
   "language": "python",
   "name": "python3"
  },
  "language_info": {
   "codemirror_mode": {
    "name": "ipython",
    "version": 3
   },
   "file_extension": ".py",
   "mimetype": "text/x-python",
   "name": "python",
   "nbconvert_exporter": "python",
   "pygments_lexer": "ipython3",
   "version": "3.13.2"
  }
 },
 "nbformat": 4,
 "nbformat_minor": 2
}
